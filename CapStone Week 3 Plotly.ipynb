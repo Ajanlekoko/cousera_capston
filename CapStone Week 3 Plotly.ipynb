{
 "cells": [
  {
   "cell_type": "code",
   "execution_count": 1,
   "id": "aaf8c66b-38a6-49e3-8409-205ce85a2166",
   "metadata": {},
   "outputs": [],
   "source": [
    "# Import required libraries\n",
    "import pandas as pd\n",
    "import dash\n",
    "from dash import html, dcc\n",
    "from dash.dependencies import Input, Output, State\n",
    "import plotly.express as px\n",
    "import plotly.graph_objects as go\n",
    "from dash import no_update\n",
    "from jupyter_dash import JupyterDash"
   ]
  },
  {
   "cell_type": "code",
   "execution_count": 2,
   "id": "437839b1-ec33-4d5f-b280-c23750a7a4e4",
   "metadata": {},
   "outputs": [],
   "source": [
    "# Read the airline data into pandas dataframe\n",
    "spacex_df = pd.read_csv(\"https://cf-courses-data.s3.us.cloud-object-storage.appdomain.cloud/IBM-DS0321EN-SkillsNetwork/datasets/spacex_launch_dash.csv\")\n",
    "# spacex_df.head()"
   ]
  },
  {
   "cell_type": "code",
   "execution_count": 3,
   "id": "13e4988d-d571-4e71-b084-1ab5bb31e4bd",
   "metadata": {},
   "outputs": [
    {
     "data": {
      "text/plain": [
       "array(['CCAFS LC-40', 'VAFB SLC-4E', 'KSC LC-39A', 'CCAFS SLC-40'],\n",
       "      dtype=object)"
      ]
     },
     "execution_count": 3,
     "metadata": {},
     "output_type": "execute_result"
    }
   ],
   "source": [
    "spacex_df['Launch Site'].unique()"
   ]
  },
  {
   "cell_type": "code",
   "execution_count": 4,
   "id": "a410a5b4-6ac0-414f-8805-397eefc7f0e1",
   "metadata": {},
   "outputs": [
    {
     "name": "stdout",
     "output_type": "stream",
     "text": [
      "0.0 9600.0\n"
     ]
    }
   ],
   "source": [
    "max_payload = spacex_df['Payload Mass (kg)'].max()\n",
    "min_payload = spacex_df['Payload Mass (kg)'].min()\n",
    "print(min_payload, max_payload)"
   ]
  },
  {
   "cell_type": "code",
   "execution_count": 5,
   "id": "39d7b77f-de68-4544-b951-c0e39945369e",
   "metadata": {},
   "outputs": [
    {
     "data": {
      "text/plain": [
       "array(['CCAFS LC-40'], dtype=object)"
      ]
     },
     "execution_count": 5,
     "metadata": {},
     "output_type": "execute_result"
    }
   ],
   "source": [
    "dele = spacex_df.groupby('Launch Site').get_group('CCAFS LC-40')\n",
    "# dele.get_group('CCAFS LC-40')\n",
    "dele['Launch Site'].unique()"
   ]
  },
  {
   "cell_type": "code",
   "execution_count": 6,
   "id": "f0ecd20b-284f-43f0-b45c-f0a350b983ed",
   "metadata": {},
   "outputs": [],
   "source": [
    "# Create a dash application\n",
    "app = JupyterDash(__name__)\n",
    "\n",
    "# Create an app layout\n",
    "app.layout = html.Div(children=[html.H1('SpaceX Launch Records Dashboard',\n",
    "                                        style={'textAlign': 'center', 'color': '#503D36',\n",
    "                                               'font-size': 40}),\n",
    "                                # TASK 1: Add a dropdown list to enable Launch Site selection\n",
    "                                # The default select value is for ALL sites\n",
    "                                # dcc.Dropdown(id='site-dropdown',...)\n",
    "                                \n",
    "                                 dcc.Dropdown(id='site-dropdown', \n",
    "                                                     # Update dropdown values using list comphrehension\n",
    "                                                     options=[\n",
    "                                                         {'label': 'All Sites', 'value': 'ALL'},\n",
    "                                                         {'label': 'CCAFS LC-40', 'value': 'CCAFS LC-40'},\n",
    "                                                         {'label': 'CCAFS SLC-40', 'value': 'CCAFS SLC-40'},\n",
    "                                                         {'label': 'VAFB SLC-4E', 'value': 'VAFB SLC-4E'},\n",
    "                                                         {'label': 'KSC LC-39A', 'value': 'KSC LC-39A'},\n",
    "                                                    ],\n",
    "                                                     value='ALL',\n",
    "                                                     placeholder=\"All Sites\",\n",
    "                                                     # style={'width':'80%', 'padding':'2px', 'font-size': '15px', 'text-align-last' : 'left'},\n",
    "                                                     searchable=True\n",
    "                                                     ),  \n",
    "                                \n",
    "                                \n",
    "                                html.Br(),\n",
    "\n",
    "                                # TASK 2: Add a pie chart to show the total successful launches count for all sites\n",
    "                                # If a specific launch site was selected, show the Success vs. Failed counts for the site\n",
    "                                html.Div(dcc.Graph(id='success-pie-chart')),\n",
    "                                html.Br(),\n",
    "\n",
    "                                html.P(\"Payload range (Kg):\"),\n",
    "                                # TASK 3: Add a slider to select payload range\n",
    "                                dcc.RangeSlider(id='payload-slider',\n",
    "                                                min=min_payload, max=max_payload, step=1000, \n",
    "                                                value=[min_payload, max_payload]),\n",
    "\n",
    "                                # TASK 4: Add a scatter chart to show the correlation between payload and launch success\n",
    "                                html.Div(dcc.Graph(id='success-payload-scatter-chart')),\n",
    "                                ])\n",
    "\n",
    "# TASK 2:\n",
    "# Add a callback function for `site-dropdown` as input, `success-pie-chart` as output\n",
    "# Function decorator to specify function input and output\n",
    "\n",
    "@app.callback(Output(component_id='success-pie-chart', component_property='figure'),\n",
    "              Input(component_id='site-dropdown', component_property='value'))\n",
    "\n",
    "def get_pie_chart(entered_site):\n",
    "  \n",
    "    if entered_site == 'ALL':\n",
    "        filtered_df = spacex_df[spacex_df['class']==1]\n",
    "        fig = px.pie(filtered_df, values='class', names='Launch Site', \n",
    "        title='Total Success Launches by Site')\n",
    "        return fig\n",
    "    else:\n",
    "        # return the outcomes piechart for a selected site\n",
    "        # filtered_df = spacex_df.groupby('Launch Site').get_group(entered_site)\n",
    "        filtered_df = spacex_df[spacex_df['Launch Site']==entered_site]\n",
    "        # print(filtered_df, type(filtered_df['class']))\n",
    "        fig = px.pie(filtered_df, values=filtered_df['class'].value_counts().values, \n",
    "                     names=filtered_df['class'].value_counts().index,\n",
    "                     title=f'Total Success Launches by Site {entered_site}')\n",
    "        return fig                    \n",
    "    \n",
    "# *******************************************\n",
    "# Task 3 and 4\n",
    "\n",
    "# TASK 4:\n",
    "# Add a callback function for `site-dropdown` and `payload-slider` as inputs, `success-payload-scatter-chart` as output\n",
    "\n",
    "@app.callback(Output(component_id='success-payload-scatter-chart', component_property='figure'),\n",
    "              [Input(component_id='payload-slider', component_property='value'), \n",
    "               Input(component_id='site-dropdown', component_property='value')]\n",
    "             \n",
    "             )\n",
    "\n",
    "def get_scatter_chart(slider, entered_site):\n",
    "    \n",
    "    min_slider = slider[0]\n",
    "    max_slider = slider[1]\n",
    "    \n",
    "    # print(slider, entered_site)\n",
    "     \n",
    "    if entered_site == 'ALL':\n",
    "        payload_df = spacex_df[(spacex_df['Payload Mass (kg)']>=min_slider) & \n",
    "                           (spacex_df['Payload Mass (kg)']<=max_slider)]\n",
    "\n",
    "    else:\n",
    "        payload_df = spacex_df[(spacex_df['Payload Mass (kg)']>=min_slider) & \n",
    "                           (spacex_df['Payload Mass (kg)']<=max_slider) &\n",
    "                           (spacex_df[spacex_df['Launch Site']==entered_site])]\n",
    "                           \n",
    "    scatter_fig = px.scatter(payload_df, x='Payload Mass (kg)', y='class', \n",
    "                             color='Booster Version Category', \n",
    "                             title='Correlation between Payload & Success for all Sites')\n",
    "    \n",
    "    return scatter_fig   \n",
    "\n",
    "# Run the app\n",
    "if __name__ == '__main__':\n",
    "    app.run_server(mode='jupyterlab', port = 8090 ,dev_tools_ui=True, #debug=True,\n",
    "              dev_tools_hot_reload =True, threaded=True)\n"
   ]
  }
 ],
 "metadata": {
  "kernelspec": {
   "display_name": "Python 3 (ipykernel)",
   "language": "python",
   "name": "python3"
  },
  "language_info": {
   "codemirror_mode": {
    "name": "ipython",
    "version": 3
   },
   "file_extension": ".py",
   "mimetype": "text/x-python",
   "name": "python",
   "nbconvert_exporter": "python",
   "pygments_lexer": "ipython3",
   "version": "3.9.12"
  }
 },
 "nbformat": 4,
 "nbformat_minor": 5
}
